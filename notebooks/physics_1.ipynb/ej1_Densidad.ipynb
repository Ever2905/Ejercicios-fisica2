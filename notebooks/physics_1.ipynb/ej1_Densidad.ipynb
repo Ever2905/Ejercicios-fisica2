{
 "cells": [
  {
   "cell_type": "markdown",
   "metadata": {},
   "source": [
    "# Ejercicio 1: \n",
    "\n",
    "Calcula la masa de aire en una habitación a $25°C$, de $5m$ de ancho, $8m$de largo y $2.5$ de altura. densidad del aire $25°C$\n",
    "$1.18 \\frac{kg}{m^3}$\n",
    "\n",
    "Datos\n",
    "\n",
    "- Temperatura = 25°C\n",
    "- Ancho = 5m\n",
    "- Largo = 8m\n",
    "- Altura = 2.5m\n",
    "- Densidad del aire (25°C) = $1.18 \\frac{kg}{m^3}$ \n",
    "                     \n",
    "Incognita:\n",
    "\n",
    "- Masa = ?\n",
    "\n",
    "Procedimiento:\n",
    "\n",
    "- Tenemos la formula de densidad:\n",
    "$$\\rho = \\frac{m}{V}$$\n",
    "\n",
    "- Necesitemos el volumen:\n",
    "$$ V = ancho * largo * altura $$ \n",
    "$$ V = 5m * 8m * 2,5m $$\n",
    "$$ V = 100 m^3$$\n",
    "\n",
    "- Despejemos la masa  en la ecuacion de densidad:\n",
    "$$m = \\rho * V$$\n",
    "\n",
    "- Obtenemos la masa del aire:\n",
    "$$ = 1.18 \\frac{kg}{m^3} * 100 m^3$$\n",
    "$$m = 118 kg$$\n"
   ]
  },
  {
   "cell_type": "markdown",
   "metadata": {},
   "source": []
  }
 ],
 "metadata": {
  "language_info": {
   "name": "python"
  }
 },
 "nbformat": 4,
 "nbformat_minor": 2
}
