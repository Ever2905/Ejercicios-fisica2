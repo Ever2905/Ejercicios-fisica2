{
 "cells": [
  {
   "cell_type": "markdown",
   "metadata": {},
   "source": [
    "# Ejercicio 4\n",
    "\n",
    "Ejercicio:4 Tenemos una moneda de cobre con una msa de $3.1g$ ¿cual es la carga total de todos los electrones contenidos en la moneda?\n",
    "\n",
    "### formula:\n",
    "$$Q_e =(m_{\\text{Cu}}/{M_{Cu}}*N_A)*Z*e\\\\$$\n",
    "\n",
    "### Datos: \n",
    "- $3.1g$\n",
    " numeros de moles\n",
    "- (n_{\\text}{Cu}) es el número de moles del cobre.\n",
    "- (m_{\\text}{Cu}) es la masa de la moneda de cobre\n",
    "- (M_{\\text}{Cu}) es la masa molar del cobre\n",
    "- (N_{\\text}{Cu}) es el número de átomos de cobre\n",
    "- (N_A) es el número de Avogadro,(6.022\\times 10^{23}) átomos/mol.\n",
    "- (N_e) es el número total de  electrones.\n",
    "- (Z) es el número total de  electrones por átomo de cobre (Z=29))\n",
    "- (Q_e) es la cargatotal de los electrones\n",
    "- (e) esla carga de un electrón, (-1.602\\times 10^{-19})Coulombs.\n",
    "\n",
    "\n",
    "\n",
    "\n",
    "### Incognita:\n",
    "¿Carga total de electrones contenidos en la moneda?\n",
    "\n",
    "## sustituyendo datos\n",
    "\n",
    "$$Q_e =(m_{\\text{Cu}}/{M_{Cu}}*N_A)*Z*e\\\\$$\n",
    "\n",
    "$$Q_e =(m_{\\text{Cu}}/{63.55}*6.022*10^{23})*29*-1.602*10^{-19}\\\\frac$$\n",
    "\n",
    "## Aplicando la formula a la masa epesifica de 3.1 g:\n",
    "\n",
    "$$Q_e =(3.1/{63.55}*6.022*10^{23})*29*-1.602*10^{-19}\\\\frac$$\n",
    "\n",
    "## Resultado:\n",
    "$$Q_e =-1.36*10^5 C$$"
   ]
  }
 ],
 "metadata": {
  "language_info": {
   "name": "python"
  }
 },
 "nbformat": 4,
 "nbformat_minor": 2
}
