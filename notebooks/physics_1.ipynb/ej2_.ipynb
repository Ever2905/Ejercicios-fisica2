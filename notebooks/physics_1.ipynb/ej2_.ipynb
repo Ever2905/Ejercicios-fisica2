{
 "cells": [
  {
   "cell_type": "markdown",
   "metadata": {},
   "source": [
    "# Ejercicio2:\n",
    "un objeto sumergido en agua de marexperimenta una presion de $5atm.$ calcula a que profundidad se encuentra. \n",
    "Densidad del agua de mar:$1030\\frac{kg}{m^3}$\n",
    "\n",
    "Datos:\n",
    "- presion:5atm\n",
    "- densidad delagua:$1030\\frac{kg}{m^3}$\n",
    "\n",
    "Formula:\n",
    "$$p-po=p*g*h$$\n",
    "\n",
    "incognita:\n",
    "profundidad: ¿m ? \n",
    "\n",
    "$p-p0=ρ*h*g$\n",
    "\n",
    "$h=\\frac{p-po}{ρ*g}$\n",
    "\n",
    "$h=\\frac{506625pa-101325}{1030{kg}{m^3}*9.81{m}{s^2}}$\n",
    "\n",
    "$h=\\frac{405300pa}{10104.3{kg}{m^3}*{m}{s^2}}$\n",
    "\n",
    "$h=\\frac{405300pa}{10104.3*{kg}{m^2s^2}}$\n",
    "\n",
    "$h=40.11$\n",
    "\n",
    "# resultado =40.11 m\n",
    "\n",
    "\n",
    "\n",
    "\n",
    "\n",
    "\n",
    "\n"
   ]
  },
  {
   "cell_type": "code",
   "execution_count": null,
   "metadata": {},
   "outputs": [],
   "source": []
  }
 ],
 "metadata": {
  "kernelspec": {
   "display_name": "Python 3",
   "language": "python",
   "name": "python3"
  },
  "language_info": {
   "codemirror_mode": {
    "name": "ipython",
    "version": 3
   },
   "file_extension": ".py",
   "mimetype": "text/x-python",
   "name": "python",
   "nbconvert_exporter": "python",
   "pygments_lexer": "ipython3",
   "version": "3.10.13"
  }
 },
 "nbformat": 4,
 "nbformat_minor": 2
}
